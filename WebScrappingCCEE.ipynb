{
  "nbformat": 4,
  "nbformat_minor": 0,
  "metadata": {
    "colab": {
      "name": "WebScrappingCCEE.ipynb",
      "provenance": []
    },
    "kernelspec": {
      "name": "python3",
      "display_name": "Python 3"
    }
  },
  "cells": [
    {
      "cell_type": "code",
      "metadata": {
        "id": "l_pfaVnBIGM8",
        "colab_type": "code",
        "outputId": "b30ecad7-892f-4795-b8e6-3ce6812405cb",
        "colab": {
          "base_uri": "https://localhost:8080/",
          "height": 74
        }
      },
      "source": [
        "!pip install xlsxwriter\n",
        "import pandas as pd\n",
        "import requests\n",
        "import string\n",
        "import csv\n",
        "import xlsxwriter\n",
        "import time\n",
        "from bs4 import BeautifulSoup\n",
        "\n",
        "tempo_ini = time.time()"
      ],
      "execution_count": 0,
      "outputs": [
        {
          "output_type": "stream",
          "text": [
            "Requirement already satisfied: xlsxwriter in /usr/local/lib/python3.6/dist-packages (1.2.8)\n"
          ],
          "name": "stdout"
        },
        {
          "output_type": "execute_result",
          "data": {
            "text/plain": [
              "'pag1 = \\'https://www.ccee.org.br/portal/faces/pages_publico/quem-participa/conheca_os_agentes?_adf.ctrl-state=15uulgcjpp_86&contentid=CCEE_355599&ordenacao=dataassociacao&classe=6,12&letra=\\'\\npag2 = \\'&pag=\\'\\n\\nf = csv.writer(open(\\'leads.csv\\', \\'w\\'))\\nf.writerow([\\'Agente\\', \\'Razão Social\\', \\'CNPJ\\', \\'Classe\\'])\\n\\ndicionario_campos = {}\\nlista_agente = []\\nlista_razao_social = []\\nlista_cnpj = []\\nlista_classe = []\\n\\nlista_alfabeto = list(string.ascii_uppercase)\\n\\nfor letra in lista_alfabeto:\\n  try:\\n    for i in range(1, 2):\\n      try:\\n        pag = pag1+str(letra)+pag2+str(i)\\n        print(pag)\\n        req = requests.get(pag)\\n        if req.status_code == 200:\\n            content = req.content\\n\\n        soup = BeautifulSoup(content, \\'html.parser\\')\\n        table = soup.find(name=\\'table\\')\\n\\n        table_str = str(table)\\n        df = pd.read_html(table_str)[0]\\n\\n        for ag in range(0, len(df[\\'Agente\\'])):\\n          #print(df[\\'Razão Social\\'][ag])\\n          lista_agente.append(df[\\'Agente\\'][ag])\\n          lista_razao_social.append(df[\\'Razão Social\\'][ag])\\n          lista_cnpj.append(df[\\'CNPJ\\'][ag])\\n          lista_classe.append(df[\\'Classe\\'][ag])\\n\\n        dicionario_campos[\"Agente\"] = lista_agente\\n        dicionario_campos[\"Razão Social\"] = lista_razao_social\\n        dicionario_campos[\"CNPJ\"] = lista_cnpj\\n        dicionario_campos[\"Classe\"] = lista_classe\\n\\n      except:\\n        pass\\n  except:\\n    pass\\n\\n\\nlista_impressao = [dicionario_campos.copy()]\\n\\noutput_file = \\'Leads.xlsx\\'\\nwriter = pd.ExcelWriter(output_file, engine=\\'xlsxwriter\\')\\n\\nfor j in range(0, len(lista_impressao)):\\n    workbook = writer.book\\n    df2 = pd.DataFrame.from_dict(lista_impressao[j], orient=\\'index\\')\\n    df2 = df.transpose()\\n    df2.to_excel(writer, startrow=0, startcol=0, index=False)\\nwriter.save()'"
            ]
          },
          "metadata": {
            "tags": []
          },
          "execution_count": 1
        }
      ]
    },
    {
      "cell_type": "code",
      "metadata": {
        "id": "qO49pPd9iTon",
        "colab_type": "code",
        "colab": {}
      },
      "source": [
        "pag1 = 'https://www.ccee.org.br/portal/faces/pages_publico/quem-participa/conheca_os_agentes?_adf.ctrl-state=15uulgcjpp_86&contentid=CCEE_355599&ordenacao=dataassociacao&classe=6,12&letra='\n",
        "pag2 = '&pag='"
      ],
      "execution_count": 0,
      "outputs": []
    },
    {
      "cell_type": "code",
      "metadata": {
        "id": "GQ3fl6bFiYHG",
        "colab_type": "code",
        "outputId": "af91c3e8-e9c4-47bc-d547-b22ddd265bed",
        "colab": {
          "base_uri": "https://localhost:8080/",
          "height": 35
        }
      },
      "source": [
        "f = csv.writer(open('leads.csv', 'w'))\n",
        "f.writerow(['Agente', 'Razão Social', 'CNPJ', 'Classe'])"
      ],
      "execution_count": 0,
      "outputs": [
        {
          "output_type": "execute_result",
          "data": {
            "text/plain": [
              "33"
            ]
          },
          "metadata": {
            "tags": []
          },
          "execution_count": 3
        }
      ]
    },
    {
      "cell_type": "code",
      "metadata": {
        "id": "bYpgMo29iYN0",
        "colab_type": "code",
        "colab": {}
      },
      "source": [
        "dicionario_campos = {}\n",
        "lista_agente = []\n",
        "lista_razao_social = []\n",
        "lista_cnpj = []\n",
        "lista_classe = []"
      ],
      "execution_count": 0,
      "outputs": []
    },
    {
      "cell_type": "code",
      "metadata": {
        "id": "PjpbGlHKiYQs",
        "colab_type": "code",
        "colab": {}
      },
      "source": [
        "lista_alfabeto = list(string.ascii_uppercase)"
      ],
      "execution_count": 0,
      "outputs": []
    },
    {
      "cell_type": "code",
      "metadata": {
        "id": "95hsD99BiYTU",
        "colab_type": "code",
        "outputId": "acc1ca95-0a52-47b4-8c74-ce2e7a0e2c56",
        "colab": {
          "base_uri": "https://localhost:8080/",
          "height": 862
        }
      },
      "source": [
        "for letra in lista_alfabeto:\n",
        "  try:\n",
        "    for i in range(1, 46):\n",
        "      try:\n",
        "        pag = pag1+str(letra)+pag2+str(i)\n",
        "        print(letra, i)\n",
        "        req = requests.get(pag)\n",
        "        if req.status_code == 200:\n",
        "            content = req.content\n",
        "\n",
        "        soup = BeautifulSoup(content, 'html.parser')\n",
        "        table = soup.find(name='table')\n",
        "\n",
        "        table_str = str(table)\n",
        "        df = pd.read_html(table_str)[0]\n",
        "\n",
        "        for ag in range(0, len(df['Agente'])):\n",
        "          lista_agente.append(df['Agente'][ag])\n",
        "          lista_razao_social.append(df['Razão Social'][ag])\n",
        "          lista_cnpj.append(df['CNPJ'][ag])\n",
        "          lista_classe.append(df['Classe'][ag])\n",
        "\n",
        "        dicionario_campos[\"Agente\"] = lista_agente\n",
        "        dicionario_campos[\"Razão Social\"] = lista_razao_social\n",
        "        dicionario_campos[\"CNPJ\"] = lista_cnpj\n",
        "        dicionario_campos[\"Classe\"] = lista_classe\n",
        "\n",
        "        lista_impressao = []\n",
        "        lista_impressao.append(dicionario_campos.copy())\n",
        "\n",
        "      except:\n",
        "        pass\n",
        "  except:\n",
        "    pass"
      ],
      "execution_count": 0,
      "outputs": [
        {
          "output_type": "stream",
          "text": [
            "A 1\n",
            "A 2\n",
            "A 3\n",
            "A 4\n",
            "A 5\n",
            "A 6\n",
            "A 7\n",
            "A 8\n",
            "A 9\n",
            "A 10\n",
            "A 11\n",
            "A 12\n",
            "A 13\n",
            "A 14\n",
            "A 15\n",
            "A 16\n",
            "A 17\n",
            "A 18\n",
            "A 19\n",
            "A 20\n",
            "A 21\n",
            "A 22\n",
            "A 23\n",
            "A 24\n",
            "A 25\n",
            "A 26\n",
            "A 27\n",
            "A 28\n",
            "A 29\n",
            "A 30\n",
            "A 31\n",
            "A 32\n",
            "A 33\n",
            "A 34\n",
            "A 35\n",
            "A 36\n",
            "A 37\n",
            "A 38\n",
            "A 39\n",
            "A 40\n",
            "A 41\n",
            "A 42\n",
            "A 43\n",
            "A 44\n",
            "A 45\n",
            "B 1\n"
          ],
          "name": "stdout"
        }
      ]
    },
    {
      "cell_type": "code",
      "metadata": {
        "id": "pjGBXqAGiYV2",
        "colab_type": "code",
        "colab": {}
      },
      "source": [
        "output_file = 'Leads.xlsx'\n",
        "writer = pd.ExcelWriter(output_file, engine='xlsxwriter')"
      ],
      "execution_count": 0,
      "outputs": []
    },
    {
      "cell_type": "code",
      "metadata": {
        "id": "RJWSvGz9iYYj",
        "colab_type": "code",
        "colab": {}
      },
      "source": [
        "for j in range(0, len(lista_impressao)):\n",
        "  workbook=writer.book\n",
        "  df2 = pd.DataFrame.from_dict(lista_impressao[j], orient = 'index')\n",
        "  df2 = df2.transpose()"
      ],
      "execution_count": 0,
      "outputs": []
    },
    {
      "cell_type": "code",
      "metadata": {
        "id": "GFR9JIT1qnDp",
        "colab_type": "code",
        "colab": {}
      },
      "source": [
        "df2.to_excel(writer, startrow=0 , startcol=0, index = False)\n",
        "writer.save()\n",
        "tempo_fim = time.time()\n",
        "print(\"A execução do programa levou {} minutos\".format((tempo_fim - tempo_ini)/60))"
      ],
      "execution_count": 0,
      "outputs": []
    },
    {
      "cell_type": "code",
      "metadata": {
        "id": "QNwvSM24iYds",
        "colab_type": "code",
        "colab": {}
      },
      "source": [
        ""
      ],
      "execution_count": 0,
      "outputs": []
    },
    {
      "cell_type": "code",
      "metadata": {
        "id": "Iet0GqvziYgU",
        "colab_type": "code",
        "colab": {}
      },
      "source": [
        ""
      ],
      "execution_count": 0,
      "outputs": []
    },
    {
      "cell_type": "code",
      "metadata": {
        "id": "DHk7rUJIiYjF",
        "colab_type": "code",
        "colab": {}
      },
      "source": [
        ""
      ],
      "execution_count": 0,
      "outputs": []
    },
    {
      "cell_type": "code",
      "metadata": {
        "id": "pXB-k4iYiYl1",
        "colab_type": "code",
        "colab": {}
      },
      "source": [
        ""
      ],
      "execution_count": 0,
      "outputs": []
    },
    {
      "cell_type": "code",
      "metadata": {
        "id": "AuWGPdRUiYor",
        "colab_type": "code",
        "colab": {}
      },
      "source": [
        ""
      ],
      "execution_count": 0,
      "outputs": []
    },
    {
      "cell_type": "code",
      "metadata": {
        "id": "CInN7QcPiYrr",
        "colab_type": "code",
        "colab": {}
      },
      "source": [
        ""
      ],
      "execution_count": 0,
      "outputs": []
    },
    {
      "cell_type": "code",
      "metadata": {
        "id": "ue2IaPdriYuO",
        "colab_type": "code",
        "colab": {}
      },
      "source": [
        ""
      ],
      "execution_count": 0,
      "outputs": []
    },
    {
      "cell_type": "code",
      "metadata": {
        "id": "mSOmdAjziYxM",
        "colab_type": "code",
        "colab": {}
      },
      "source": [
        ""
      ],
      "execution_count": 0,
      "outputs": []
    },
    {
      "cell_type": "code",
      "metadata": {
        "id": "aLrVPxdfiYz0",
        "colab_type": "code",
        "colab": {}
      },
      "source": [
        ""
      ],
      "execution_count": 0,
      "outputs": []
    },
    {
      "cell_type": "code",
      "metadata": {
        "id": "4G78ToaEiY2n",
        "colab_type": "code",
        "colab": {}
      },
      "source": [
        ""
      ],
      "execution_count": 0,
      "outputs": []
    },
    {
      "cell_type": "markdown",
      "metadata": {
        "id": "BdoyMUx0xT1D",
        "colab_type": "text"
      },
      "source": [
        ""
      ]
    }
  ]
}